{
 "cells": [
  {
   "cell_type": "code",
   "execution_count": 27,
   "id": "d6265e1c",
   "metadata": {},
   "outputs": [
    {
     "name": "stdout",
     "output_type": "stream",
     "text": [
      "['Victor', 'Batman', 'Spongebob']\n"
     ]
    }
   ],
   "source": [
    "import pandas as pd\n",
    "column = [\"Victor\", \"Ted\", \"Jogn\"]\n",
    "print (column)"
   ]
  },
  {
   "cell_type": "code",
   "execution_count": 28,
   "id": "ea7e359f",
   "metadata": {},
   "outputs": [
    {
     "name": "stdout",
     "output_type": "stream",
     "text": [
      "100\n"
     ]
    }
   ],
   "source": [
    "import pandas as pd\n",
    "column = [\"Victor\", \"Batman\", \"Spongebob\"]\n",
    "titled_columns = {\"name\": column, \"height\": [1.67, 1.9, 0.20], \"weight\": [54, 100, 1]}\n",
    "data = pd.DataFrame(titled_columns)\n",
    "select_column = data[\"weight\"][1]\n",
    "select_row = data.iloc[1][\"weight\"]\n",
    "print (select_row)"
   ]
  },
  {
   "cell_type": "code",
   "execution_count": 29,
   "id": "18f0169d",
   "metadata": {},
   "outputs": [
    {
     "name": "stdout",
     "output_type": "stream",
     "text": [
      "        name  height  weight        bmi\n",
      "0     Victor    1.67      54  19.362473\n",
      "1     Batman    1.90     100  27.700831\n",
      "2  Spongebob    0.20       1  25.000000\n"
     ]
    }
   ],
   "source": [
    "#Manipulate dataframe values\n",
    "bmi = []\n",
    "for i in range(len(data)):\n",
    "    bmi_score = data [\"weight\"][i] / (data[\"height\"][i]**2)\n",
    "    bmi.append(bmi_score)\n",
    "data[\"bmi\"] = bmi\n",
    "print(data)\n",
    "data.to_csv(\"bmi.csv\", index=False, sep=\"\\t\")"
   ]
  },
  {
   "cell_type": "code",
   "execution_count": 41,
   "id": "e29872e7",
   "metadata": {},
   "outputs": [
    {
     "name": "stdout",
     "output_type": "stream",
     "text": [
      "   release_year         release_name          city\n",
      "5          2008  Grand Theft Auto IV  Liberty City\n",
      "6          2013   Grand Theft Auto V    Los Santos\n"
     ]
    }
   ],
   "source": [
    "#read from file\n",
    "import sqlite3\n",
    "\n",
    "data = pd.read_csv(\"bmi.csv\", sep=\"\\t\")\n",
    "connection = sqlite3.connect(\"t.db\")\n",
    "gta_data = pd.read_sql(\"select * from gta\", connection)\n",
    "print(gta_data.tail(2))"
   ]
  },
  {
   "cell_type": "code",
   "execution_count": 44,
   "id": "0f25c252",
   "metadata": {},
   "outputs": [
    {
     "name": "stdout",
     "output_type": "stream",
     "text": [
      "   release_year                   release_name                   city\n",
      "0          1997               Grand Theft Auto  state of New Guernsey\n",
      "1          1999             Grand Theft Auto 2          Anywhere, USA\n",
      "2          2001           Grand Theft Auto III               New york\n",
      "3          2002    Grand Theft Auto: Vice City              Vice City\n",
      "4          2004  Grand Theft Auto: San Andreas   state of San Andreas\n",
      "5          2008            Grand Theft Auto IV               New york\n",
      "6          2013             Grand Theft Auto V             Los Santos\n"
     ]
    }
   ],
   "source": [
    "#Select specfic\n",
    "\n",
    "connection = sqlite3.connect(\"t.db\")\n",
    "gta_data = pd.read_sql(\"select * from gta\", connection)\n",
    "\n",
    "first_5_rows = gta_data.head()\n",
    "last_2_rows = gta_data.tail(2)\n",
    "\n",
    "filtered_row = gta_data [ gta_data[\"city\"] == \"Liberty City\"]\n",
    "replaced_city = gta_data.replace(\"Liberty City\", \"New york\")\n",
    "print(replaced_city)"
   ]
  },
  {
   "cell_type": "code",
   "execution_count": null,
   "id": "0e58763d",
   "metadata": {},
   "outputs": [],
   "source": []
  },
  {
   "cell_type": "code",
   "execution_count": 47,
   "id": "780f1f23",
   "metadata": {},
   "outputs": [
    {
     "name": "stdout",
     "output_type": "stream",
     "text": [
      "   release_year                 release_name           city\n",
      "1          1999           Grand Theft Auto 2  Anywhere, USA\n",
      "2          2001         Grand Theft Auto III   Liberty City\n",
      "3          2002  Grand Theft Auto: Vice City      Vice City\n"
     ]
    }
   ],
   "source": [
    "#Remove data\n",
    "\n",
    "filtered_row = gta_data [ gta_data[\"city\"] == \"Liberty City\"]\n",
    "replaced_city = gta_data.replace(\"Liberty City\", \"New york\")\n",
    "\n",
    "remove_column = gta_data.drop([\"release_year\",\"city\"], axis=1)\n",
    "remove_row = gta_data.iloc[1:4]\n",
    "print(remove_row)"
   ]
  },
  {
   "cell_type": "code",
   "execution_count": 48,
   "id": "bab1c996",
   "metadata": {},
   "outputs": [
    {
     "name": "stdout",
     "output_type": "stream",
     "text": [
      "  release_year                   release_name                   city\n",
      "0         1997               Grand Theft Auto  state of New Guernsey\n",
      "1         1999             Grand Theft Auto 2          Anywhere, USA\n",
      "2         2001           Grand Theft Auto III           Liberty City\n",
      "3         2002    Grand Theft Auto: Vice City              Vice City\n",
      "4         2004  Grand Theft Auto: San Andreas   state of San Andreas\n",
      "5         2008            Grand Theft Auto IV           Liberty City\n",
      "6         2013             Grand Theft Auto V             Los Santos\n",
      "7         2021         Natural Vision Evolved            Los Angeles\n"
     ]
    }
   ],
   "source": [
    "#add new rows\n",
    "row = {\"release_year\": \"2021\", \"release_name\": \"Natural Vision Evolved\", \"city\": \"Los Angeles\"}\n",
    "new_row_data=gta_data.append(row, ignore_index=True)\n",
    "print(new_row_data)"
   ]
  },
  {
   "cell_type": "code",
   "execution_count": null,
   "id": "57194b23",
   "metadata": {},
   "outputs": [],
   "source": [
    "jam_data = pd.read_csv(\"jamData.csv\")\n",
    "print(\"number of participents: \", len)"
   ]
  }
 ],
 "metadata": {
  "kernelspec": {
   "display_name": "Python 3 (ipykernel)",
   "language": "python",
   "name": "python3"
  },
  "language_info": {
   "codemirror_mode": {
    "name": "ipython",
    "version": 3
   },
   "file_extension": ".py",
   "mimetype": "text/x-python",
   "name": "python",
   "nbconvert_exporter": "python",
   "pygments_lexer": "ipython3",
   "version": "3.9.7"
  }
 },
 "nbformat": 4,
 "nbformat_minor": 5
}
